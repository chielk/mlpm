{
 "metadata": {
  "name": "lab03_cremers_kooijman_nugteren"
 },
 "nbformat": 3,
 "nbformat_minor": 0,
 "worksheets": [
  {
   "cells": [
    {
     "cell_type": "code",
     "collapsed": false,
     "input": [
      "# Lab 2: Bayesian PCA\n",
      "\n",
      "### Machine Learning: Principles and Methods, November 2013\n",
      "\n",
      "* The lab exercises should be made in groups of three people, or at least two people.\n",
      "* The deadline is Wednesday, 11 December, 23:59.\n",
      "* Assignment should be sent to T.S.Cohen at uva dot nl (Taco Cohen). The subject line of your email should be \"[MLPM2013] lab#_lastname1\\_lastname2\\_lastname3\". \n",
      "* Put your and your teammates' names in the body of the email\n",
      "* Attach the .IPYNB (IPython Notebook) file containing your code and answers. Naming of the file follows the same rule as the subject line. For example, if the subject line is \"[MLPM2013] lab01\\_Kingma\\_Hu\", the attached file should be \"lab01\\_Kingma\\_Hu.ipynb\". Only use underscores (\"\\_\") to connect names, otherwise the files cannot be parsed.\n",
      "\n",
      "Notes on implementation:\n",
      "\n",
      "* You should write your code and answers in an IPython Notebook: http://ipython.org/notebook.html. If you have problems, please contact us.\n",
      "* Among the first lines of your notebook should be \"%pylab inline\". This imports all required modules, and your plots will appear inline.\n",
      "* NOTE: test your code and make sure we can run your notebook / scripts!"
     ],
     "language": "python",
     "metadata": {},
     "outputs": []
    },
    {
     "cell_type": "markdown",
     "metadata": {},
     "source": [
      "### Introduction\n",
      "\n",
      "In this lab assignment, we will implement a variational algorithm for Bayesian PCA. Unlike regular PCA based on maximization of retained variance or minimization of projection error (see Bishop, 12.1.1 and 12.1.2), probabilistic PCA defines a proper density model over observed and latent variables. We will work with a fully Bayesian model this time, which is to say that we will put priors on our parameters and will be interested in learning the posterior over those parameters. Bayesian methods are very elegant, but require a shift in mindset: we are no longer looking for a point estimate of the parameters (as in maximum likelihood or MAP), but for a full posterior distribution.\n",
      "\n",
      "The integrals involved in a Bayesian analysis are usually analytically intractable, so that we must resort to approximations. In this lab assignment, we will implement the variational method described in Bishop99. Chapters 10 and 12 of the PRML book contain additional material that may be useful when doing this exercise.\n",
      "\n",
      "* [Bishop99] Variational Principal Components, C. Bishop, ICANN 1999 - http://research.microsoft.com/pubs/67241/bishop-vpca-icann-99.pdf\n",
      "\n",
      "Below, you will find some code to get you started."
     ]
    },
    {
     "cell_type": "code",
     "collapsed": false,
     "input": [
      "%pylab inline\n",
      "import scipy.special as sp\n",
      "\n",
      "class BayesianPCA(object):\n",
      "    \n",
      "    def __init__(self, d, N, a_alpha=10e-3, b_alpha=10e-3, a_tau=10e-3, b_tau=10e-3, beta=10e-3):\n",
      "        \"\"\"\n",
      "        \"\"\"\n",
      "        self.d = d # number of dimensions\n",
      "        self.N = N # number of data points\n",
      "        \n",
      "        # Hyperparameters\n",
      "        self.a_alpha = a_alpha\n",
      "        self.b_alpha = b_alpha\n",
      "        self.a_tau = a_tau\n",
      "        self.b_tau = b_tau\n",
      "        self.beta = beta\n",
      "\n",
      "        # Variational parameters\n",
      "        self.means_z = np.random.randn(d, N) # called x in bishop99\n",
      "        self.sigma_z = np.random.randn(d, d)\n",
      "        self.mean_mu = np.random.randn(d, 1)\n",
      "        self.sigma_mu = np.random.randn(d, d)\n",
      "        self.means_w = np.random.randn(d, d)\n",
      "        self.sigma_w = np.random.randn(d, d)\n",
      "        self.a_alpha_tilde = np.abs(np.random.randn(1))\n",
      "        self.bs_alpha_tilde = np.abs(np.random.randn(d, 1))\n",
      "        self.a_tau_tilde = np.abs(np.random.randn(1))\n",
      "        self.b_tau_tilde = np.abs(np.random.randn(1))\n",
      "\n",
      "    def __update_z(self, X):\n",
      "        exp_tau = self.a_tau * self.b_tau\n",
      "        # sigma_z\n",
      "        self.sigma_z = (1 + exp_tau.dot(self.sigma_w)).I\n",
      "        # means_z\n",
      "        # TODO means_z\n",
      "    \n",
      "    def __update_mu(self, X):\n",
      "        exp_tau = self.a_tau * self.b_tau\n",
      "        # sigma_mu\n",
      "        self.sigma_mu = (self.beta + self.N * exp_tau).I.dot(np.identity(self.N))\n",
      "        # mean_mu\n",
      "        s = 0\n",
      "        for n in range(self.N):\n",
      "            s += self.means_z[n] - exp_w.dot(self.means_z[n])\n",
      "        self.mean_mu = exp_tau * self.sigma_mu * s\n",
      "    \n",
      "    def __update_w(self, X):\n",
      "        \"\"\"\n",
      "        sigma_w = (diag<alpha> + <tau>*sum n->N sigma_z_n).I\n",
      "        \"\"\"\n",
      "        diag_alpha = (self.a_alpha_tilde * self.bs_alpha_tilde *\n",
      "                      np.identity(len(self.bs_alpha_tilde)))\n",
      "        exp_tau = self.a_tau * self.b_tau\n",
      "        # sigma_w\n",
      "        s = 0\n",
      "        for n in range(self.N):\n",
      "            s += self.sigma_z[n]  # <x[n] x[n].T>\n",
      "        self.sigma_w = (diag_alpha + exp_tau * s).I\n",
      "        # means_w\n",
      "        # TODO means_w\n",
      "    \n",
      "    def __update_alpha(self):\n",
      "        # a_alpha\n",
      "        self.a_alpha_tilde = a_alpha + 2 / self.d\n",
      "        # b_alpha\n",
      "        for i in range(len(self.bs_alpha_tilde)):\n",
      "            wi = np.linalg.norm(self.mean_w[i]) ** 2  # <||w_i||**2>\n",
      "            self.bs_alpha_tilde[i] = (self.b_alpha + wi / 2)\n",
      "\n",
      "    def __update_tau(self, X):\n",
      "        # a_tau\n",
      "        self.a_tau_tilde = a_tau + (self.N * self.d) / 2\n",
      "        # b_tau\n",
      "        # TODO do b_tau_tilde\n",
      "\n",
      "    def L(self, X):\n",
      "        L = 0.0\n",
      "        return L\n",
      "    \n",
      "    def fit(self, X):\n",
      "        pass"
     ],
     "language": "python",
     "metadata": {},
     "outputs": [
      {
       "output_type": "stream",
       "stream": "stdout",
       "text": [
        "\n",
        "Welcome to pylab, a matplotlib-based Python environment [backend: module://IPython.zmq.pylab.backend_inline].\n",
        "For more information, type 'help(pylab)'.\n"
       ]
      }
     ],
     "prompt_number": 3
    },
    {
     "cell_type": "markdown",
     "metadata": {},
     "source": [
      "### 1. The Q-distribution (5 points)\n",
      "\n",
      "In variational Bayes, we introduce a distribution $Q(\\Theta)$ over parameters / latent variables in order to make inference tractable. We can think of $Q$ as being an approximation of a certain distribution. What function does $Q$ approximate, $p(D|\\Theta)$, $p(\\Theta|D)$, $p(D, \\Theta)$, $p(\\Theta)$, or $p(D)$, and how do you see that?"
     ]
    },
    {
     "cell_type": "markdown",
     "metadata": {},
     "source": [
      "## Answer\n",
      "$Q(\\Theta)$ is an approximation of $p(\\Theta)$. "
     ]
    },
    {
     "cell_type": "markdown",
     "metadata": {},
     "source": [
      "### 2. The mean-field approximation (15 points)\n",
      "\n",
      "Equation 13 from [Bishop99] is a very powerful result: assuming only that $Q(\\Theta)$ factorizes in a certain way (no assumptions on the functional form of the factors $Q_i$!), we get a set of coupled equations for the $Q_i$.\n",
      "\n",
      "However, the expression given in eq. 13 for $Q_i$ contains a small mistake. Starting with the expression for the lower bound $\\mathcal{L}(Q)$, derive the correct expression (and include your derivation). You can proceed as follows: first, substitute the factorization of $Q$ (eq. 12) into the definition of $\\mathcal{L}(Q)$ and separate $\\mathcal{L}(Q)$ into $Q_i$-dependent and $Q_i$-independent terms. At this point, you should be able to spot the expectations $\\langle\\cdot\\rangle_{k \\neq i}$ over the other $Q$-distributions that appear in Bishop's solution (eq. 13). Now, keeping all $Q_k, k \\neq i$ fixed, maximize the expression with respect to $Q_i$. You should be able to spot the form of the optimal $\\ln Q_i$, from which $Q_i$ can easily be obtained."
     ]
    },
    {
     "cell_type": "markdown",
     "metadata": {},
     "source": [
      "## Answer\n",
      "\n",
      "\\\\begin{align*}\n",
      "\\mathcal{L}(Q) &= \\int Q(\\theta) \\ln \\frac{P(D, \\theta)}{Q(\\theta)}~\\mathrm{d}\\theta\\\\\\\\\n",
      "&= \\int Q(\\theta) \\ln P(D, \\theta) - \\ln Q(\\theta)~\\mathrm{d}\\theta\\\\\\\\\n",
      "&= \\int Q(\\theta) \\ln P(D, \\theta)~\\mathrm{d}\\theta - \\int Q(\\theta) \\ln Q(\\theta)~\\mathrm{d}\\theta\\\\\\\\\n",
      "&= \\int Q(\\theta_i) \\int \\prod_{j \\neq i} Q(\\theta_j) \\ln P(D, \\theta)\\mathrm{d}\\theta_j \\mathrm{d}\\theta_i - \\int Q(\\theta) \\ln Q(\\theta) \\mathrm{d}\\theta\\\\\\\\\n",
      "&= \\int Q_i(\\theta_i) \\langle \\ln P(D, \\theta) \\rangle_{j \\neq i}~\\mathrm{d}\\theta_i -\n",
      "     \\int Q(\\theta) \\ln Q(\\theta)~\\mathrm{d}\\theta\\\\\\\\\n",
      "&= \\int Q_i(\\theta_i) \\langle \\ln P(D, \\theta) \\rangle_{j \\neq i}~\\mathrm{d}\\theta_i -\n",
      "     \\int Q(\\theta_i) \\int \\prod_{j \\neq i} Q(\\theta_j) \\ln Q(\\theta_j)\\mathrm{d}\\theta_j \\mathrm{d}\\theta_i\\\\\\\\\n",
      "&= \\int Q_i(\\theta_i) \\langle \\ln P(D, \\theta) \\rangle_{j \\neq i}~\\mathrm{d}\\theta_i -\n",
      "\\int Q(\\theta_i) \\ln Q(\\theta_i)  + \\int Q(\\theta_j) \\sum_{j \\neq i} \\ln Q_j(\\theta_j)~\\mathrm{d}\\theta_j~\\mathrm{d}\\theta_i\\\\\\\\\n",
      "&= \\int Q_i(\\theta_i) \\langle \\ln P(D, \\theta) \\rangle_{j \\neq i}~\\mathrm{d}\\theta_i -\n",
      "\\langle \\ln Q_j(\\theta_j)\\rangle_{j \\neq i} + c\\\\\\\\\n",
      "Q_i(\\theta_i) &= \\mathcal{KL}(P(D, \\theta)|| Q_j(\\theta_j))\\\\\\\\\n",
      "\\ln Q &= \\langle \\ln P(D, \\theta) \\rangle_{j \\neq i}\\\\\\\\\n",
      "\\ln Q_i(\\theta_i) &= \\ln \\frac{\\langle \\ln P(D, \\theta) \\rangle _{k \\neq i}}{\\int \\langle \\ln P(D, \\theta) \\rangle _{j \\neq i} d \\theta _{j}}\\\\\\\\\n",
      "Q_i(\\theta_i) &= \\frac{\\exp \\langle \\ln P(D, \\theta) \\rangle _{k \\neq i}}{\\int \\exp \\langle \\ln P(D, \\theta) \\rangle _{j \\neq i} d \\theta _{j}}\\\\\\\\\n",
      "\\\\end{align*}"
     ]
    },
    {
     "cell_type": "markdown",
     "metadata": {},
     "source": [
      "### 3. The log-probability (10 points)\n",
      "\n",
      "Write down the log-prob of data and parameters, $\\ln p(\\mathbf{X}, \\mathbf{Z}, \\mathbf{W}, \\mathbf{\\alpha}, \\tau, \\mathbf{\\mu})$, in full detail (where $\\mathbf{X}$ are observed, $\\mathbf{Z}$ is latent; this is different from [Bishop99] who uses $\\mathbf{T}$ and $\\mathbf{X}$ respectively, but $\\mathbf{X}$ and $\\mathbf{Z}$ are consistent with the PRML book and are more common nowadays). Could we use this to assess the convergence of the variational Bayesian PCA algorithm? If yes, how? If no, why not?"
     ]
    },
    {
     "cell_type": "markdown",
     "metadata": {},
     "source": [
      "\\\\begin{align*}\n",
      "    \\ln p(\\mathbf{X}, \\mathbf{Z}, \\mathbf{W}, \\alpha, \\tau, \\mu) &=\n",
      "    p(\\alpha) p(\\mathbf{W}|\\alpha) p(\\tau)^{-1}p(\\mu)\n",
      "    p(\\mathbf{X}|\\mathbf{Z},\\mathbf{W}, \\mu) p(\\mathbf{X})\\\\\\\\\n",
      "    &= \\ln \\prod_{i=1}^q \\Gamma (\\alpha_i|a_\\alpha, b_\\alpha)\n",
      "p(\\mathbf{W}|\\alpha) \\Gamma (\\tau|c_\\tau, d_\\tau)^{-1}\n",
      "\\mathcal{N}(\\mu|\\mathbf{0}, \\beta^{-1}\\mathbf{I})\n",
      "p(\\mathbf{X}|\\mathbf{Z},\\mathbf{W}, \\mu, \\tau) p(\\mathbf{X})\\\\\\\\\n",
      "    &= \\sum_{i=1}^q \\ln \\Gamma (\\alpha_i|a_\\alpha, b_\\alpha) +\n",
      "\\ln p(\\mathbf{W}|\\alpha) + \\ln \\Gamma (\\tau|c_\\tau, d_\\tau)^{-1} +\n",
      "\\ln \\mathcal{N}(\\mu|\\mathbf{0}, \\ln \\beta^{-1}\\mathbf{I}) +\n",
      "\\ln p(\\mathbf{X}|\\mathbf{Z},\\mathbf{W}, \\mu, \\tau) + \\ln p(\\mathbf{X})\\\\\\\\\n",
      "    &= \\sum_{i=1}^q \\ln \\Gamma (\\alpha_i|a_\\alpha, b_\\alpha) +\n",
      "\\ln p(\\mathbf{W}|\\alpha) + \\ln \\Gamma (\\tau|c_\\tau, d_\\tau)^{-1} +\n",
      "\\ln \\mathcal{N}(\\mu|\\mathbf{0}, \\ln \\beta^{-1}\\mathbf{I}) +\n",
      "\\sum_{n=1}^N \\ln p(\\mathbf{x}_n|\\mathbf{z}_n,\\mathbf{W}, \\mu, \\tau) + \\ln p(\\mathbf{X})\n",
      "\\\\end{align*}\n",
      "\n",
      "As also stated in Bishop99, the convergence of the variational optimization can be monitored by evaluating the lower bound L(Q). At the end of optimization, the partial derivatives with respect to the individual parameters of the Q distribution can be calculated numerically in order to see if they are indeed close to zero.\n"
     ]
    },
    {
     "cell_type": "markdown",
     "metadata": {},
     "source": [
      "### 4. The lower bound $\\mathcal{L}(Q)$ (25 points)\n",
      "\n",
      "Derive an expression for the lower bound $\\mathcal{L}(Q)$ of the log-prob $\\ln p(X)$ for Bayesian PCA, making use of the factorization (eq. 12) and the form of the Q-distributions (eq. 16-20) as listed in [Bishop99]. Show your steps. Implement this function.\n",
      "\n",
      "The following result may be useful:\n",
      "\n",
      "For $x \\sim \\Gamma(a,b)$, we have $\\langle \\ln x\\rangle = \\ln b + \\psi(a)$, where $\\psi(a) = \\frac{\\Gamma'(a)}{\\Gamma(a)}$ is the digamma function (which is implemented in numpy.special)."
     ]
    },
    {
     "cell_type": "markdown",
     "metadata": {},
     "source": [
      "### 5. Optimize variational parameters (50 points)\n",
      "Implement the update equations for the Q-distributions, in the __update_XXX methods. Each update function should re-estimate the variational parameters of the Q-distribution corresponding to one group of variables (i.e. either $Z$, $\\mu$, $W$, $\\alpha$ or $\\tau$)."
     ]
    },
    {
     "cell_type": "markdown",
     "metadata": {},
     "source": [
      "### 6. Learning algorithm (10 points)\n",
      "Implement the learning algorithm described in [Bishop99], i.e. iteratively optimize each of the Q-distributions holding the others fixed.\n",
      "\n",
      "What would be a good way to track convergence of the algorithm? Implement your suggestion.\n",
      "\n",
      "Test the algorithm on some test data drawn from a Gaussian with different variances in orthogonal directions. "
     ]
    },
    {
     "cell_type": "markdown",
     "metadata": {},
     "source": [
      "### 7. PCA Representation of MNIST (10 points)\n",
      "\n",
      "Download the MNIST dataset from here http://deeplearning.net/tutorial/gettingstarted.html (the page contains python code for loading the data). Run your algorithm on (part of) this dataset, and visualize the results.\n"
     ]
    }
   ],
   "metadata": {}
  }
 ]
}